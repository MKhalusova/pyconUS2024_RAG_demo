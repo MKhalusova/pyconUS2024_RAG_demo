{
 "cells": [
  {
   "metadata": {},
   "cell_type": "markdown",
   "source": "",
   "id": "7ca87a1991862223"
  },
  {
   "metadata": {},
   "cell_type": "markdown",
   "source": "# Fully local RAG app for a hodgepodge of files, in 20 minutes\n",
   "id": "9183dd5ed043cf0c"
  },
  {
   "metadata": {},
   "cell_type": "markdown",
   "source": [
    "WHOAMI:\n",
    "\n",
    "Maria Khalusova, Staff Developer Advocate [@Unstructured.io](https://unstructured.io), ex @HuggingFace\n",
    "\n",
    "Course author: [\"Open Source Models with Hugging Face\" on DeepLearning.ai](https://www.deeplearning.ai/short-courses/open-source-models-hugging-face/), [\"Audio transformers\"](https://huggingface.co/learn/audio-course/chapter0/introduction)\n",
    "\n",
    "* Twitter: https://twitter.com/mariaKhalusova \n",
    "* HuggingFace https://huggingface.co/MariaK\n",
    "* GitHub: https://github.com/MKhalusova "
   ],
   "id": "a117fdd4de8df23f"
  },
  {
   "metadata": {},
   "cell_type": "markdown",
   "source": "",
   "id": "62927bda78ee3a60"
  },
  {
   "metadata": {},
   "cell_type": "markdown",
   "source": [
    "## Your own local assistant\n",
    "\n",
    "* Private\n",
    "* Can be offline\n",
    "* Sustainable\n",
    "* Can be customized however you want it\n",
    "* Helps to build LLM/RAG skills :) "
   ],
   "id": "e4dffa19acd5e971"
  },
  {
   "metadata": {},
   "cell_type": "markdown",
   "source": "",
   "id": "d9dd97baa8540bad"
  },
  {
   "metadata": {},
   "cell_type": "markdown",
   "source": [
    "## Getting started with Ollama\n",
    "\n",
    "1. Go to https://ollama.com and download the app for your OS.\n",
    "2. Explore the available models: https://ollama.com/library.\n",
    "3. Open your terminal and pull the model you want."
   ],
   "id": "c13d0c9d6e2abbbd"
  },
  {
   "metadata": {},
   "cell_type": "code",
   "outputs": [],
   "execution_count": null,
   "source": [
    "# !ollama pull llama3\n",
    "# !ollama pull nomic-embed-text"
   ],
   "id": "9ebd06f342538703"
  },
  {
   "metadata": {
    "ExecuteTime": {
     "end_time": "2024-04-26T17:31:21.475504Z",
     "start_time": "2024-04-26T17:31:21.341318Z"
    }
   },
   "cell_type": "code",
   "source": [
    "# check what models you have locally\n",
    "!ollama list"
   ],
   "id": "908d5f668f39ec84",
   "outputs": [
    {
     "name": "stdout",
     "output_type": "stream",
     "text": [
      "NAME                   \tID          \tSIZE  \tMODIFIED    \r\n",
      "command-r:latest       \tb8cdfff0263c\t20 GB \t2 weeks ago\t\r\n",
      "llama3:latest          \ta6990ed6be41\t4.7 GB\t2 hours ago\t\r\n",
      "nomic-embed-text:latest\t0a109f422b47\t274 MB\t2 weeks ago\t\r\n"
     ]
    }
   ],
   "execution_count": 2
  },
  {
   "metadata": {},
   "cell_type": "markdown",
   "source": "## RAG motivation ",
   "id": "cfc60f7c575187b1"
  },
  {
   "metadata": {
    "ExecuteTime": {
     "end_time": "2024-05-07T13:59:41.222470Z",
     "start_time": "2024-05-07T13:59:30.190027Z"
    }
   },
   "cell_type": "code",
   "source": [
    "import ollama\n",
    "\n",
    "response = ollama.chat(model='llama3', messages=[\n",
    "  {\n",
    "    'role': 'user',\n",
    "    'content': 'What is RAG?',\n",
    "  },\n",
    "])\n",
    "\n",
    "print(response['message']['content'])"
   ],
   "id": "bf9a95d927f1737a",
   "outputs": [
    {
     "name": "stdout",
     "output_type": "stream",
     "text": [
      "RAG stands for Retinoblastoma (also known as Rhabdomyosarcoma-like Antigen Gene). It's a gene that plays a crucial role in the development and progression of several types of cancer, including:\n",
      "\n",
      "1. **Retinoblastoma**: A rare pediatric eye cancer that occurs in children under the age of 5.\n",
      "2. **Rhabdomyosarcoma**: A type of soft tissue sarcoma that affects muscles and can occur anywhere in the body.\n",
      "\n",
      "The RAG gene helps regulate cell growth, differentiation, and apoptosis (programmed cell death). Mutations in this gene can lead to uncontrolled cell growth, which can result in cancer development.\n",
      "\n",
      "In retinoblastoma, mutations in the RAG gene are responsible for approximately 60% of cases. In rhabdomyosarcoma, RAG gene alterations are found in about 30% of patients.\n",
      "\n",
      "Research on RAG has led to a better understanding of these cancers and has guided the development of targeted therapies and treatments.\n"
     ]
    }
   ],
   "execution_count": 1
  },
  {
   "metadata": {},
   "cell_type": "markdown",
   "source": [
    "## Basics of RAG\n",
    "\n",
    "![Simple RAG Diagram](https://huggingface.co/datasets/huggingface/cookbook-images/resolve/main/rag-diagram.png)"
   ],
   "id": "936962bc5d4164fc"
  },
  {
   "metadata": {},
   "cell_type": "code",
   "outputs": [],
   "execution_count": null,
   "source": "",
   "id": "b7947ac4f2259927"
  }
 ],
 "metadata": {
  "kernelspec": {
   "display_name": "Python 3",
   "language": "python",
   "name": "python3"
  },
  "language_info": {
   "codemirror_mode": {
    "name": "ipython",
    "version": 2
   },
   "file_extension": ".py",
   "mimetype": "text/x-python",
   "name": "python",
   "nbconvert_exporter": "python",
   "pygments_lexer": "ipython2",
   "version": "2.7.6"
  }
 },
 "nbformat": 4,
 "nbformat_minor": 5
}
